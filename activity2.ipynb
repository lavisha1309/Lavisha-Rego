{
  "nbformat": 4,
  "nbformat_minor": 0,
  "metadata": {
    "colab": {
      "provenance": [],
      "authorship_tag": "ABX9TyO5AKNSzLoyRAwH1eMEuBJ4",
      "include_colab_link": true
    },
    "kernelspec": {
      "name": "python3",
      "display_name": "Python 3"
    },
    "language_info": {
      "name": "python"
    }
  },
  "cells": [
    {
      "cell_type": "markdown",
      "metadata": {
        "id": "view-in-github",
        "colab_type": "text"
      },
      "source": [
        "<a href=\"https://colab.research.google.com/github/lavisha1309/Lavisha-Rego/blob/main/activity2.ipynb\" target=\"_parent\"><img src=\"https://colab.research.google.com/assets/colab-badge.svg\" alt=\"Open In Colab\"/></a>"
      ]
    },
    {
      "cell_type": "code",
      "execution_count": 20,
      "metadata": {
        "colab": {
          "base_uri": "https://localhost:8080/"
        },
        "id": "k31pMlzLUBph",
        "outputId": "e81c4a33-a645-4f3d-ef9e-3aff93984e3c"
      },
      "outputs": [
        {
          "output_type": "stream",
          "name": "stdout",
          "text": [
            "Enter the temperature: 30\n",
            "Warm\n"
          ]
        }
      ],
      "source": [
        "tempt = float(input(\"Enter the temperature: \"))\n",
        "if tempt > 30:\n",
        "    print(\"Hot\")\n",
        "elif 20 <= tempt <= 30:\n",
        "    print(\"Warm\")\n",
        "else:\n",
        "    print(\"Cold\")"
      ]
    },
    {
      "cell_type": "code",
      "source": [
        "age = int(input(\"Enter your age: \"))\n",
        "if age >= 18:\n",
        "    print(\"Eligible to drive\")\n",
        "else:\n",
        "    print(\"Not eligible to drive\")\n"
      ],
      "metadata": {
        "colab": {
          "base_uri": "https://localhost:8080/"
        },
        "id": "B5JaDuwGUMPy",
        "outputId": "d4cabf93-0df9-4f3a-a3d2-5073895ec1f6"
      },
      "execution_count": 3,
      "outputs": [
        {
          "output_type": "stream",
          "name": "stdout",
          "text": [
            "Enter your age: 21\n",
            "Eligible to drive\n"
          ]
        }
      ]
    },
    {
      "cell_type": "code",
      "source": [
        "score = int(input(\"Enter the student's score: \"))\n",
        "if 90 <= score <= 100:\n",
        "    print(\"Grade: A\")\n",
        "elif 80 <= score <= 89:\n",
        "    print(\"Grade: B\")\n",
        "elif 70 <= score <= 79:\n",
        "    print(\"Grade: C\")\n",
        "elif 60 <= score <= 69:\n",
        "    print(\"Grade: D\")\n",
        "elif 0 <= score < 60:\n",
        "    print(\"Grade: F\")\n",
        "else:\n",
        "    print(\"Invalid score.Enter number between 0 to 100\")\n"
      ],
      "metadata": {
        "colab": {
          "base_uri": "https://localhost:8080/"
        },
        "id": "CI2n9S7SUgiZ",
        "outputId": "7c602d9c-a162-45d8-f7fa-282d742afafb"
      },
      "execution_count": 7,
      "outputs": [
        {
          "output_type": "stream",
          "name": "stdout",
          "text": [
            "Enter the student's score: 92\n",
            "Grade: A\n"
          ]
        }
      ]
    },
    {
      "cell_type": "code",
      "source": [
        "word = input(\"Enter a string: \")\n",
        "vcount = 0\n",
        "vowels = \"aeiou\"\n",
        "for char in word:\n",
        "    if char in vowels:\n",
        "        vcount += 1\n",
        "print(\"Number of vowels:\", vcount)\n"
      ],
      "metadata": {
        "colab": {
          "base_uri": "https://localhost:8080/"
        },
        "id": "iikZ7e49U8sw",
        "outputId": "cb8614ea-5053-4889-c6bc-c989bdeb7b95"
      },
      "execution_count": 19,
      "outputs": [
        {
          "output_type": "stream",
          "name": "stdout",
          "text": [
            "Enter a string: lavisha\n",
            "Number of vowels: 3\n"
          ]
        }
      ]
    },
    {
      "cell_type": "code",
      "source": [
        "a = input(\"Enter a string: \")\n",
        "if a==a[::-1]:\n",
        "    print(\"Palindrome\")\n",
        "else:\n",
        "    print(\"Not a palindrome\")\n"
      ],
      "metadata": {
        "colab": {
          "base_uri": "https://localhost:8080/"
        },
        "id": "OFqclXxjfpvF",
        "outputId": "8b7adae1-7f79-46e5-8e85-65bcf86a2612"
      },
      "execution_count": 23,
      "outputs": [
        {
          "output_type": "stream",
          "name": "stdout",
          "text": [
            "Enter a string: eye\n",
            "Palindrome\n"
          ]
        }
      ]
    }
  ]
}