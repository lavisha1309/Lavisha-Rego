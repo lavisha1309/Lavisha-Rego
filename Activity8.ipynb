{
  "nbformat": 4,
  "nbformat_minor": 0,
  "metadata": {
    "colab": {
      "provenance": [],
      "authorship_tag": "ABX9TyMhDvb27Z2tPw+RpkkJvAc0",
      "include_colab_link": true
    },
    "kernelspec": {
      "name": "python3",
      "display_name": "Python 3"
    },
    "language_info": {
      "name": "python"
    }
  },
  "cells": [
    {
      "cell_type": "markdown",
      "metadata": {
        "id": "view-in-github",
        "colab_type": "text"
      },
      "source": [
        "<a href=\"https://colab.research.google.com/github/lavisha1309/Lavisha-Rego/blob/main/Activity8.ipynb\" target=\"_parent\"><img src=\"https://colab.research.google.com/assets/colab-badge.svg\" alt=\"Open In Colab\"/></a>"
      ]
    },
    {
      "cell_type": "code",
      "execution_count": 1,
      "metadata": {
        "colab": {
          "base_uri": "https://localhost:8080/"
        },
        "id": "H9hmDN5AdLnl",
        "outputId": "67e048ad-af88-4395-b2af-b198b061f203"
      },
      "outputs": [
        {
          "output_type": "stream",
          "name": "stdout",
          "text": [
            "[[ 1  2  3]\n",
            " [ 4  5  6]\n",
            " [ 7  8  9]\n",
            " [10 11 12]]\n"
          ]
        }
      ],
      "source": [
        "import numpy as np\n",
        "arr = np.array([1, 2, 3, 4, 5, 6, 7, 8, 9, 10, 11, 12])\n",
        "newarr=arr.reshape(4, 3)\n",
        "print(newarr)\n"
      ]
    },
    {
      "cell_type": "code",
      "source": [
        "import numpy as np\n",
        "arr = np.array([[1, 2, 3], [4, 5, 6], [7, 8, 9], [10, 11, 12]])\n",
        "newarr=arr.reshape(-1)\n",
        "print(\"Flattened array:\",newarr)\n"
      ],
      "metadata": {
        "colab": {
          "base_uri": "https://localhost:8080/"
        },
        "id": "XC4egc1oegsu",
        "outputId": "95b2605d-e0d9-4710-fcc0-e371befc7424"
      },
      "execution_count": 2,
      "outputs": [
        {
          "output_type": "stream",
          "name": "stdout",
          "text": [
            "Flattened array: [ 1  2  3  4  5  6  7  8  9 10 11 12]\n"
          ]
        }
      ]
    },
    {
      "cell_type": "code",
      "source": [
        "rev_arr = newarr[::-1]\n",
        "print(\"reversed array is:\",rev_arr)"
      ],
      "metadata": {
        "colab": {
          "base_uri": "https://localhost:8080/"
        },
        "id": "3c7Fhkpqfnvf",
        "outputId": "a1614517-262c-47c9-fb6f-bdc41487f93f"
      },
      "execution_count": 6,
      "outputs": [
        {
          "output_type": "stream",
          "name": "stdout",
          "text": [
            "reversed array is: [12 11 10  9  8  7  6  5  4  3  2  1]\n"
          ]
        }
      ]
    },
    {
      "cell_type": "code",
      "source": [
        "import numpy as np\n",
        "arr_2d=np.random.randint(1, 101,size=(3,4))\n",
        "print(arr_2d)\n"
      ],
      "metadata": {
        "colab": {
          "base_uri": "https://localhost:8080/"
        },
        "id": "3FsMCQQugO7y",
        "outputId": "ce731c0a-3986-4efc-fe6b-fdb89128a947"
      },
      "execution_count": 7,
      "outputs": [
        {
          "output_type": "stream",
          "name": "stdout",
          "text": [
            "[[27 49 20 20]\n",
            " [86 50  2 80]\n",
            " [21 87 42  3]]\n"
          ]
        }
      ]
    },
    {
      "cell_type": "code",
      "source": [
        "import numpy as np\n",
        "arr1=np.array([[1,2,3], [7,8,9]])\n",
        "arr2=np.random.randint(1, 101, size=(3, 4))\n",
        "print(\"Data type of array 1:\", arr1.dtype)\n",
        "print(\"Data type of array 2:\", arr2.dtype)"
      ],
      "metadata": {
        "colab": {
          "base_uri": "https://localhost:8080/"
        },
        "id": "5K4Q-1lOh3lc",
        "outputId": "46fdf7b8-8743-4657-8708-acd8e704c942"
      },
      "execution_count": 9,
      "outputs": [
        {
          "output_type": "stream",
          "name": "stdout",
          "text": [
            "Data type of 1: int64\n",
            "Data type of 2: int64\n"
          ]
        }
      ]
    },
    {
      "cell_type": "code",
      "source": [
        "print(\"first 2 rows:\",arr_2d[:2, :])"
      ],
      "metadata": {
        "colab": {
          "base_uri": "https://localhost:8080/"
        },
        "id": "hoLGPyGCiIQ1",
        "outputId": "c39dcc7e-8e23-4328-be63-71c7f2188cbe"
      },
      "execution_count": 11,
      "outputs": [
        {
          "output_type": "stream",
          "name": "stdout",
          "text": [
            "first 2 rows: [[27 49 20 20]\n",
            " [86 50  2 80]]\n"
          ]
        }
      ]
    },
    {
      "cell_type": "code",
      "source": [
        "print(\"last 2 rows:\",arr_2d[:, -2:])"
      ],
      "metadata": {
        "colab": {
          "base_uri": "https://localhost:8080/"
        },
        "id": "TsrwXwprl5lz",
        "outputId": "9f844aae-1bc0-4ec3-d7b0-846701b1d8ec"
      },
      "execution_count": 13,
      "outputs": [
        {
          "output_type": "stream",
          "name": "stdout",
          "text": [
            "last 2 rows: [[20 20]\n",
            " [ 2 80]\n",
            " [42  3]]\n"
          ]
        }
      ]
    },
    {
      "cell_type": "code",
      "source": [
        "import numpy as np\n",
        "arr=np.random.randint(1, 101, size=(2, 3, 4))\n",
        "arr_3d=arr[0]\n",
        "first_layer=arr_3d[0: :]\n",
        "print(\"Original 3D array:\\n\", arr)\n",
        "print(\"first layer:\",first_layer)\n"
      ],
      "metadata": {
        "colab": {
          "base_uri": "https://localhost:8080/"
        },
        "id": "BSq8bWd7mXVl",
        "outputId": "527e1c9e-2e0a-4090-dcce-3de105f39e66"
      },
      "execution_count": 18,
      "outputs": [
        {
          "output_type": "stream",
          "name": "stdout",
          "text": [
            "Original 3D array:\n",
            " [[[29 69 78 17]\n",
            "  [58 45 14  2]\n",
            "  [11 96  3 59]]\n",
            "\n",
            " [[92 37 16  1]\n",
            "  [70 20 77  8]\n",
            "  [83 47 13 27]]]\n",
            "first layer: [[29 69 78 17]\n",
            " [58 45 14  2]\n",
            " [11 96  3 59]]\n"
          ]
        }
      ]
    },
    {
      "cell_type": "code",
      "source": [
        "import numpy as np\n",
        "arr = np.random.randint(1, 101, size=(2, 3, 4))\n",
        "third_ele=arr[1].flatten()[2]\n",
        "print(\"3D array:\\n\", arr)\n",
        "print(\"\\n3rd element from 2nd layer:\",third_ele)\n"
      ],
      "metadata": {
        "colab": {
          "base_uri": "https://localhost:8080/"
        },
        "id": "oiRhyEkgn7MS",
        "outputId": "563d9204-e45f-4913-90c7-6966d8d8591b"
      },
      "execution_count": 25,
      "outputs": [
        {
          "output_type": "stream",
          "name": "stdout",
          "text": [
            "3D array:\n",
            " [[[50 33 30 37]\n",
            "  [31 41 66 74]\n",
            "  [12 47 81 40]]\n",
            "\n",
            " [[48 24 46 15]\n",
            "  [95  8 31 24]\n",
            "  [74 83 76 30]]]\n",
            "\n",
            "3rd element from 2nd layer: 46\n"
          ]
        }
      ]
    },
    {
      "cell_type": "code",
      "source": [
        "total_sum = arr_2d.sum()\n",
        "mean_value = arr_2d.mean()\n",
        "print(\"Sum of all elements:\",total_sum)\n",
        "print(\"Mean of all elements:\",mean_value)"
      ],
      "metadata": {
        "colab": {
          "base_uri": "https://localhost:8080/"
        },
        "id": "T5ssEbVLqq5U",
        "outputId": "fd56425a-a028-4c3e-b516-6f3294acdcc1"
      },
      "execution_count": 31,
      "outputs": [
        {
          "output_type": "stream",
          "name": "stdout",
          "text": [
            "Sum of all elements: 487\n",
            "Mean of all elements: 40.583333333333336\n"
          ]
        }
      ]
    },
    {
      "cell_type": "code",
      "source": [
        "arr_3d[arr_3d > 5] = 0\n",
        "print(\"after replacing elements:\", arr_3d)"
      ],
      "metadata": {
        "colab": {
          "base_uri": "https://localhost:8080/"
        },
        "id": "VOjplTovrwXY",
        "outputId": "10d1c2bc-91d2-4e75-b8ae-2902e87032a5"
      },
      "execution_count": 32,
      "outputs": [
        {
          "output_type": "stream",
          "name": "stdout",
          "text": [
            "after replacing elements: [[0 0 0 0]\n",
            " [0 0 0 2]\n",
            " [0 0 3 0]]\n"
          ]
        }
      ]
    },
    {
      "cell_type": "code",
      "source": [
        "import numpy as np\n",
        "arr=np.random.randint(1, 11, size=(2, 3, 4))\n",
        "print(\"Original 3D array:\\n\",arr)\n",
        "arr[arr > 5] = 0\n",
        "print(\"\\nModified 3D array (elements > 5 set to 0):\\n\", arr)\n"
      ],
      "metadata": {
        "colab": {
          "base_uri": "https://localhost:8080/"
        },
        "id": "52qZMuzWrKhX",
        "outputId": "4629d331-fac2-4a15-eb9b-9de142ffd7a8"
      },
      "execution_count": 33,
      "outputs": [
        {
          "output_type": "stream",
          "name": "stdout",
          "text": [
            "Original 3D array:\n",
            " [[[ 7  4  1  3]\n",
            "  [ 5  3  6  7]\n",
            "  [ 4  8  7  9]]\n",
            "\n",
            " [[ 8 10 10  3]\n",
            "  [ 6  6  9  5]\n",
            "  [ 5  6  3  6]]]\n",
            "\n",
            "Modified 3D array (elements > 5 set to 0):\n",
            " [[[0 4 1 3]\n",
            "  [5 3 0 0]\n",
            "  [4 0 0 0]]\n",
            "\n",
            " [[0 0 0 3]\n",
            "  [0 0 0 5]\n",
            "  [5 0 3 0]]]\n"
          ]
        }
      ]
    },
    {
      "cell_type": "code",
      "source": [
        "array_2df = np.array(arr_2d, dtype=float)\n",
        "print(\"2D array as float:\", array_2df)\n",
        "print(\"New data type:\", array_2df.dtype)"
      ],
      "metadata": {
        "colab": {
          "base_uri": "https://localhost:8080/"
        },
        "id": "X8D0k8klscTI",
        "outputId": "561dc241-5c4e-4e0e-d0fa-ca967e5d1160"
      },
      "execution_count": 34,
      "outputs": [
        {
          "output_type": "stream",
          "name": "stdout",
          "text": [
            "2D array as float: [[27. 49. 20. 20.]\n",
            " [86. 50.  2. 80.]\n",
            " [21. 87. 42.  3.]]\n",
            "New data type: float64\n"
          ]
        }
      ]
    },
    {
      "cell_type": "code",
      "source": [
        "arr_3d= np.random.randint(0,10,size=(2, 3, 4))\n",
        "int_arr= arr_3d.astype(int)\n",
        "print(\"\\n\",int_arr)"
      ],
      "metadata": {
        "colab": {
          "base_uri": "https://localhost:8080/"
        },
        "id": "6hfI0NezttcG",
        "outputId": "38766734-7474-4fb8-ce8c-f09ee3116400"
      },
      "execution_count": 47,
      "outputs": [
        {
          "output_type": "stream",
          "name": "stdout",
          "text": [
            "\n",
            " [[[2 5 4 4]\n",
            "  [9 6 3 2]\n",
            "  [5 1 0 6]]\n",
            "\n",
            " [[6 7 5 6]\n",
            "  [7 3 2 6]\n",
            "  [8 4 6 9]]]\n"
          ]
        }
      ]
    },
    {
      "cell_type": "code",
      "source": [
        "a1 = np.array([[1, 2, 3], [4, 5, 6]])\n",
        "a2 = np.array([[7, 8, 9], [10, 11, 12]])\n",
        "print(\"a1:\\n\", a1)\n",
        "print(\"a2:\\n\", a2)"
      ],
      "metadata": {
        "colab": {
          "base_uri": "https://localhost:8080/"
        },
        "id": "XhPfIgiNv5n0",
        "outputId": "c986b7fd-f211-4f1c-bf37-7c4b243acf5f"
      },
      "execution_count": 48,
      "outputs": [
        {
          "output_type": "stream",
          "name": "stdout",
          "text": [
            "a1:\n",
            " [[1 2 3]\n",
            " [4 5 6]]\n",
            "a2:\n",
            " [[ 7  8  9]\n",
            " [10 11 12]]\n"
          ]
        }
      ]
    },
    {
      "cell_type": "code",
      "source": [
        "b1 = np.random.randint(1, 11, size=(2, 2, 2))\n",
        "b2 = np.random.randint(1, 11, size=(2, 2, 2))\n",
        "b3 = np.random.randint(1, 11, size=(2, 2, 2))\n",
        "\n",
        "print(\"b1:\\n\", b1)\n",
        "print(\"\\nb2:\\n\", b2)\n",
        "print(\"\\nb3:\\n\", b3)"
      ],
      "metadata": {
        "colab": {
          "base_uri": "https://localhost:8080/"
        },
        "id": "jCtv7SWuwFcQ",
        "outputId": "24aa1464-dc1f-4043-964f-ee93397a7547"
      },
      "execution_count": 49,
      "outputs": [
        {
          "output_type": "stream",
          "name": "stdout",
          "text": [
            "b1:\n",
            " [[[8 5]\n",
            "  [6 9]]\n",
            "\n",
            " [[9 5]\n",
            "  [3 2]]]\n",
            "\n",
            "b2:\n",
            " [[[9 2]\n",
            "  [3 2]]\n",
            "\n",
            " [[2 7]\n",
            "  [7 7]]]\n",
            "\n",
            "b3:\n",
            " [[[1 4]\n",
            "  [5 5]]\n",
            "\n",
            " [[7 7]\n",
            "  [6 1]]]\n"
          ]
        }
      ]
    },
    {
      "cell_type": "code",
      "source": [
        "b1_mod=b1*3\n",
        "print(\"after modifying:\\n\", b1_mod)"
      ],
      "metadata": {
        "colab": {
          "base_uri": "https://localhost:8080/"
        },
        "id": "oCDQ0_caxEC7",
        "outputId": "7b911162-434f-4c14-acc9-46cd933d89a2"
      },
      "execution_count": 50,
      "outputs": [
        {
          "output_type": "stream",
          "name": "stdout",
          "text": [
            "after modifying:\n",
            " [[[24 15]\n",
            "  [18 27]]\n",
            "\n",
            " [[27 15]\n",
            "  [ 9  6]]]\n"
          ]
        }
      ]
    },
    {
      "cell_type": "code",
      "source": [
        "print(\"Index and value in a1:\")\n",
        "for i in range(a1.shape[0]):\n",
        "    for j in range(a1.shape[1]):\n",
        "        print(f\"({i},{j}): {a1[i,j]}\")"
      ],
      "metadata": {
        "colab": {
          "base_uri": "https://localhost:8080/"
        },
        "id": "l_v5XYfzxPWQ",
        "outputId": "7d180141-95eb-416d-f73e-78c2b3da6979"
      },
      "execution_count": 51,
      "outputs": [
        {
          "output_type": "stream",
          "name": "stdout",
          "text": [
            "Index and value in a1:\n",
            "(0,0): 1\n",
            "(0,1): 2\n",
            "(0,2): 3\n",
            "(1,0): 4\n",
            "(1,1): 5\n",
            "(1,2): 6\n"
          ]
        }
      ]
    },
    {
      "cell_type": "code",
      "source": [
        "b3_flat = b3.flatten()\n",
        "print(\"Flattened b3:\\n\", b3_flat)"
      ],
      "metadata": {
        "colab": {
          "base_uri": "https://localhost:8080/"
        },
        "id": "Kqydt9r5xgZF",
        "outputId": "152bd48a-3c4f-4263-a072-068ab902dd66"
      },
      "execution_count": 52,
      "outputs": [
        {
          "output_type": "stream",
          "name": "stdout",
          "text": [
            "Flattened b3:\n",
            " [1 4 5 5 7 7 6 1]\n"
          ]
        }
      ]
    },
    {
      "cell_type": "code",
      "source": [
        "b3_reshaped=b3_flat.reshape(4, 2)\n",
        "print(\"Reshaped (4,2):\\n\", b3_reshaped)"
      ],
      "metadata": {
        "colab": {
          "base_uri": "https://localhost:8080/"
        },
        "id": "wR2QLfQdxmA-",
        "outputId": "58409ff6-fc7e-4ab6-e008-fe42ab153ffa"
      },
      "execution_count": 53,
      "outputs": [
        {
          "output_type": "stream",
          "name": "stdout",
          "text": [
            "Reshaped (4,2):\n",
            " [[1 4]\n",
            " [5 5]\n",
            " [7 7]\n",
            " [6 1]]\n"
          ]
        }
      ]
    },
    {
      "cell_type": "code",
      "source": [
        "multiple_4 = a1[a1 % 4 == 0]\n",
        "print(\"Result:\", multiple_4)"
      ],
      "metadata": {
        "colab": {
          "base_uri": "https://localhost:8080/"
        },
        "id": "8dytRuvZxqtb",
        "outputId": "fe66b21f-972b-4072-9378-84f3d2e38da1"
      },
      "execution_count": 56,
      "outputs": [
        {
          "output_type": "stream",
          "name": "stdout",
          "text": [
            "Result: [4]\n"
          ]
        }
      ]
    },
    {
      "cell_type": "code",
      "source": [
        "x=np.array([1,3,5,7,9,11])\n",
        "print(x)"
      ],
      "metadata": {
        "colab": {
          "base_uri": "https://localhost:8080/"
        },
        "id": "FbiO2pfUx8vt",
        "outputId": "8d176e8f-f9fb-438b-b493-863ed858a922"
      },
      "execution_count": 58,
      "outputs": [
        {
          "output_type": "stream",
          "name": "stdout",
          "text": [
            "[ 1  3  5  7  9 11]\n"
          ]
        }
      ]
    },
    {
      "cell_type": "code",
      "source": [
        "ind=np.searchsorted(x, [4,8,10])\n",
        "print(\"Insert indices for [4,8,10]:\",ind)"
      ],
      "metadata": {
        "colab": {
          "base_uri": "https://localhost:8080/"
        },
        "id": "PrglhOwxyCmK",
        "outputId": "0c21022d-8653-4d39-80e6-f916957e0078"
      },
      "execution_count": 59,
      "outputs": [
        {
          "output_type": "stream",
          "name": "stdout",
          "text": [
            "Insert indices for [4,8,10]: [2 4 5]\n"
          ]
        }
      ]
    }
  ]
}