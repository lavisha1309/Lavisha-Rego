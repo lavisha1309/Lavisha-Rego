{
  "nbformat": 4,
  "nbformat_minor": 0,
  "metadata": {
    "colab": {
      "provenance": [],
      "authorship_tag": "ABX9TyNUAKy4zqkhpx9o/lFvBZaW",
      "include_colab_link": true
    },
    "kernelspec": {
      "name": "python3",
      "display_name": "Python 3"
    },
    "language_info": {
      "name": "python"
    }
  },
  "cells": [
    {
      "cell_type": "markdown",
      "metadata": {
        "id": "view-in-github",
        "colab_type": "text"
      },
      "source": [
        "<a href=\"https://colab.research.google.com/github/lavisha1309/Lavisha-Rego/blob/main/Python.ipynb\" target=\"_parent\"><img src=\"https://colab.research.google.com/assets/colab-badge.svg\" alt=\"Open In Colab\"/></a>"
      ]
    },
    {
      "cell_type": "code",
      "execution_count": 15,
      "metadata": {
        "colab": {
          "base_uri": "https://localhost:8080/"
        },
        "id": "U_vy8quTZlB7",
        "outputId": "949d6779-5e64-4d22-99ee-8b8b6ce1db89"
      },
      "outputs": [
        {
          "output_type": "stream",
          "name": "stdout",
          "text": [
            "Number of studentss: 5\n",
            "First student: ('Lavisha', 19)\n",
            "Last student: ('Rose', 25)\n",
            "3rd student is present: ('Diya', 21)\n",
            "Students are:\n",
            "('Lavisha', 19)\n",
            "('Bethell', 20)\n",
            "('Diya', 21)\n",
            "('Roch', 23)\n",
            "('Rose', 25)\n",
            "5 students:\n",
            "('Lavisha', 19)\n",
            "('Bethell', 20)\n",
            "('Diya', 21)\n",
            "('Roch', 23)\n",
            "('Rose', 25)\n",
            "After changing 3rd student: (('Lavisha', 19), ('Bethell', 20), ('Riyon', 21), ('Roch', 23), ('Rose', 25))\n",
            "After adding new student: (('Lavisha', 19), ('Bethell', 20), ('Diya', 21), ('Roch', 23), ('Rose', 25), ('Guess', 28))\n",
            "After merging another tuple: (('Lavisha', 19), ('Bethell', 20), ('Riyon', 21), ('Roch', 23), ('Rose', 25), ('Damita', 29), ('Elv', 30))\n",
            "After removing two students: (('Lavisha', 19), ('Diya', 21), ('Roch', 23), ('Guess', 28))\n",
            "List is empty\n"
          ]
        }
      ],
      "source": [
        "stud=((\"Lavisha\", 19), (\"Bethell\", 20), (\"Diya\", 21), (\"Roch\", 23), (\"Rose\", 25))\n",
        "\n",
        "print(\"Number of studentss:\", len(stud))\n",
        "\n",
        "\n",
        "print(\"First student:\",stud[0])\n",
        "print(\"Last student:\",stud[-1])\n",
        "\n",
        "\n",
        "third_stud=stud[2]\n",
        "if third_stud in stud:\n",
        "    print(\"3rd student is present:\", third_stud)\n",
        "else:\n",
        "    print(\"3rd student not present\")\n",
        "\n",
        "\n",
        "print(\"Students are:\")\n",
        "for s in stud:\n",
        "    print(s)\n",
        "\n",
        "\n",
        "print(\"5 students:\")\n",
        "i = 0\n",
        "while i < 5:\n",
        "    print(stud[i])\n",
        "    i += 1\n",
        "\n",
        "\n",
        "slist = list(stud)\n",
        "slist[2] = (\"Riyon\", 21)\n",
        "students = tuple(slist)\n",
        "print(\"After changing 3rd student:\", students)\n",
        "\n",
        "\n",
        "stud += ((\"Guess\", 28),)\n",
        "print(\"After adding new student:\", stud)\n",
        "\n",
        "new_stud = ((\"Damita\", 29), (\"Elv\", 30))\n",
        "students += new_stud\n",
        "print(\"After merging another tuple:\", students)\n",
        "\n",
        "\n",
        "slist = list(stud)\n",
        "slist.pop(1)\n",
        "slist.pop(3)\n",
        "students= tuple(slist)\n",
        "print(\"After removing two students:\", students)\n",
        "\n",
        "\n",
        "del stud\n",
        "print(\"List is empty\")\n"
      ]
    },
    {
      "cell_type": "code",
      "source": [
        "sa = {10,20,30,40,80}\n",
        "sb = {20,40,50,70,90}\n",
        "sc = {30,50,100,80,90}\n",
        "sd=sa.intersection(sb)\n",
        "print(sd)\n",
        "\n",
        "sd=sa.symmetric_difference(sc)\n",
        "print(sd)\n",
        "\n",
        "sd=sb.difference(sc)\n",
        "print(sd)\n",
        "\n",
        "ud=sa.union(sb,sc)\n",
        "ud.add(60)\n",
        "print(\"Union of sa,sb and sc with 60 added:\", ud)\n"
      ],
      "metadata": {
        "colab": {
          "base_uri": "https://localhost:8080/"
        },
        "id": "rGm-5laKlB1q",
        "outputId": "d1875261-8413-4252-cc4d-389b31e930d9"
      },
      "execution_count": 25,
      "outputs": [
        {
          "output_type": "stream",
          "name": "stdout",
          "text": [
            "{40, 20}\n",
            "{50, 10, 100, 20, 40, 90}\n",
            "{40, 20, 70}\n",
            "Union of sa,sb and sc with 60 added: {100, 70, 40, 10, 80, 50, 20, 90, 60, 30}\n"
          ]
        }
      ]
    }
  ]
}