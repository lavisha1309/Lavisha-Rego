{
  "nbformat": 4,
  "nbformat_minor": 0,
  "metadata": {
    "colab": {
      "provenance": [],
      "authorship_tag": "ABX9TyOxRcTkCOu0dyNCexUZji2t",
      "include_colab_link": true
    },
    "kernelspec": {
      "name": "python3",
      "display_name": "Python 3"
    },
    "language_info": {
      "name": "python"
    }
  },
  "cells": [
    {
      "cell_type": "markdown",
      "metadata": {
        "id": "view-in-github",
        "colab_type": "text"
      },
      "source": [
        "<a href=\"https://colab.research.google.com/github/lavisha1309/Lavisha-Rego/blob/main/activity3.ipynb\" target=\"_parent\"><img src=\"https://colab.research.google.com/assets/colab-badge.svg\" alt=\"Open In Colab\"/></a>"
      ]
    },
    {
      "cell_type": "code",
      "execution_count": null,
      "metadata": {
        "colab": {
          "base_uri": "https://localhost:8080/"
        },
        "id": "NRYiApnJb3Dd",
        "outputId": "a6d44c20-3b4b-4377-f49c-8436e4e57ec9"
      },
      "outputs": [
        {
          "output_type": "stream",
          "name": "stdout",
          "text": [
            "['pizza', 'burger', 'fries', 'ice cream', 'momos']\n"
          ]
        }
      ],
      "source": [
        "myfavfood = ['pizza', 'burger', 'fries', 'ice cream', 'momos']\n",
        "print(myfavfood)\n"
      ]
    },
    {
      "cell_type": "code",
      "source": [
        "animal = ['dog', 'cat', 'rabbit', 'turtle']\n",
        "print(animal[-1])\n"
      ],
      "metadata": {
        "colab": {
          "base_uri": "https://localhost:8080/"
        },
        "id": "ccl9RVLucNLb",
        "outputId": "9b451a2f-6957-4af2-99c9-1c451b03f3fa"
      },
      "execution_count": null,
      "outputs": [
        {
          "output_type": "stream",
          "name": "stdout",
          "text": [
            "turtle\n"
          ]
        }
      ]
    },
    {
      "cell_type": "code",
      "source": [
        "animal=['dog', 'cat', 'rabbit', 'turtle']\n",
        "index = animal.index('rabbit')\n",
        "animal[index] = 'monkey'\n",
        "print(animal)\n"
      ],
      "metadata": {
        "colab": {
          "base_uri": "https://localhost:8080/"
        },
        "id": "oti53lbQcUYX",
        "outputId": "3675ee50-0c3d-4d6d-c0c0-2c8b7ed35e95"
      },
      "execution_count": null,
      "outputs": [
        {
          "output_type": "stream",
          "name": "stdout",
          "text": [
            "['dog', 'cat', 'monkey', 'turtle']\n"
          ]
        }
      ]
    },
    {
      "cell_type": "code",
      "source": [
        "animal = ['dog', 'cat', 'monkey', 'turtle']\n",
        "animal.append('Horse')\n",
        "animal.append('lion')\n",
        "print(animal)\n"
      ],
      "metadata": {
        "colab": {
          "base_uri": "https://localhost:8080/"
        },
        "id": "2yXfdB4hcn7m",
        "outputId": "0e7ad10f-d8dc-4fbf-a654-19d483a962ff"
      },
      "execution_count": null,
      "outputs": [
        {
          "output_type": "stream",
          "name": "stdout",
          "text": [
            "['dog', 'cat', 'monkey', 'turtle', 'Horse', 'lion']\n"
          ]
        }
      ]
    },
    {
      "cell_type": "code",
      "source": [
        "animals=['dog', 'cat', 'monkey', 'turtle', 'Horse', 'lion']\n",
        "animals.append('blue')\n",
        "print(animals)\n"
      ],
      "metadata": {
        "colab": {
          "base_uri": "https://localhost:8080/"
        },
        "id": "WiWhNdt9cxgd",
        "outputId": "550a32ac-0b9c-43bb-b0fd-9d71bae03975"
      },
      "execution_count": null,
      "outputs": [
        {
          "output_type": "stream",
          "name": "stdout",
          "text": [
            "['dog', 'cat', 'monkey', 'turtle', 'Horse', 'lion', 'blue']\n"
          ]
        }
      ]
    },
    {
      "cell_type": "code",
      "source": [
        "animals=['dog', 'cat', 'monkey', 'turtle', 'Horse', 'lion', 'blue']\n",
        "animals.remove('blue')\n",
        "print(animals)\n"
      ],
      "metadata": {
        "colab": {
          "base_uri": "https://localhost:8080/"
        },
        "id": "YWpIOaFLc62Q",
        "outputId": "16de1c00-5bb7-43d3-bf6b-aecd781a6d10"
      },
      "execution_count": null,
      "outputs": [
        {
          "output_type": "stream",
          "name": "stdout",
          "text": [
            "['dog', 'cat', 'monkey', 'turtle', 'Horse', 'lion']\n"
          ]
        }
      ]
    },
    {
      "cell_type": "code",
      "source": [
        "numbers=[1, 2, 3, 4, 5, 6, 7, 8, 9, 10]\n",
        "length = len(numbers)\n",
        "print(\"number of ele in the list:\", length)\n"
      ],
      "metadata": {
        "colab": {
          "base_uri": "https://localhost:8080/"
        },
        "id": "grwePIeldD91",
        "outputId": "f32741c4-3063-4284-ff1c-7f5464caabc8"
      },
      "execution_count": null,
      "outputs": [
        {
          "output_type": "stream",
          "name": "stdout",
          "text": [
            "number of ele in the list: 10\n"
          ]
        }
      ]
    },
    {
      "cell_type": "code",
      "source": [
        "numbers = [5, 2, 9, 1, 5, 6]\n",
        "numbers.sort(reverse=True)\n",
        "print(numbers)\n"
      ],
      "metadata": {
        "colab": {
          "base_uri": "https://localhost:8080/"
        },
        "id": "-TKWdwTtdVdM",
        "outputId": "82d8de75-51fb-418c-ed03-a74b2dee6869"
      },
      "execution_count": null,
      "outputs": [
        {
          "output_type": "stream",
          "name": "stdout",
          "text": [
            "[9, 6, 5, 5, 2, 1]\n"
          ]
        }
      ]
    },
    {
      "cell_type": "code",
      "source": [
        "grades=[90, 85, 78, 92, 88]\n",
        "mid_grades=grades[1:4]\n",
        "print(mid_grades)\n"
      ],
      "metadata": {
        "colab": {
          "base_uri": "https://localhost:8080/"
        },
        "id": "LO-LMUNwdq8L",
        "outputId": "37d551eb-00f7-46fb-cb85-761d26abeeb3"
      },
      "execution_count": null,
      "outputs": [
        {
          "output_type": "stream",
          "name": "stdout",
          "text": [
            "[85, 78, 92]\n"
          ]
        }
      ]
    },
    {
      "cell_type": "code",
      "source": [
        "list_a = [1, 2, 3]\n",
        "list_b = [4, 5, 6]\n",
        "merged_list = list_a + list_b\n",
        "print(merged_list)\n"
      ],
      "metadata": {
        "colab": {
          "base_uri": "https://localhost:8080/"
        },
        "id": "VdePKPW9eMeP",
        "outputId": "33a4b991-c24e-4416-9123-2462d646ed3e"
      },
      "execution_count": null,
      "outputs": [
        {
          "output_type": "stream",
          "name": "stdout",
          "text": [
            "[1, 2, 3, 4, 5, 6]\n"
          ]
        }
      ]
    },
    {
      "cell_type": "code",
      "source": [
        "pets=['dog', 'cat', 'dog', 'fish', 'cat', 'dog']\n",
        "dog_count=pets.count('dog')\n",
        "print(dog_count)\n"
      ],
      "metadata": {
        "colab": {
          "base_uri": "https://localhost:8080/"
        },
        "id": "RajWoiEaebcC",
        "outputId": "7de163ab-7ae9-4344-a647-aa4c68a0f17b"
      },
      "execution_count": null,
      "outputs": [
        {
          "output_type": "stream",
          "name": "stdout",
          "text": [
            "3\n"
          ]
        }
      ]
    },
    {
      "cell_type": "code",
      "source": [],
      "metadata": {
        "id": "OXpgqkoPeh2e"
      },
      "execution_count": null,
      "outputs": []
    }
  ]
}